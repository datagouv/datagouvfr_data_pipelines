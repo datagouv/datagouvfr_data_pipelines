{
 "cells": [
  {
   "cell_type": "markdown",
   "metadata": {},
   "source": [
    "# Modération / stats data.gouv.fr\n",
    "\n",
    "Affiche les derniers objets (datasets, reuses, dataservices, commentaires, utilisateurs) créés depuis `start_date` (via l'API publique)."
   ]
  },
  {
   "cell_type": "code",
   "execution_count": null,
   "metadata": {},
   "outputs": [],
   "source": [
    "import sys\n",
    "\n",
    "sys.path.append(WORKING_DIR)  # noqa"
   ]
  },
  {
   "cell_type": "code",
   "execution_count": null,
   "metadata": {},
   "outputs": [],
   "source": [
    "from dateutil.relativedelta import relativedelta\n",
    "from datetime import datetime\n",
    "import json\n",
    "from datagouvfr_data_pipelines.dgv.monitoring.digest.task_functions import (\n",
    "    show_objects,\n",
    "    show_discussions,\n",
    "    show_orgas,\n",
    "    show_users,\n",
    ")"
   ]
  },
  {
   "cell_type": "code",
   "execution_count": null,
   "metadata": {},
   "outputs": [],
   "source": [
    "end_date = datetime.strptime(DATE_AIRFLOW, \"%Y-%m-%d\")  # noqa\n",
    "if PERIOD_DIGEST == \"daily\":  # noqa\n",
    "    start_date = end_date - relativedelta(days=1)\n",
    "elif PERIOD_DIGEST == \"weekly\":  # noqa\n",
    "    start_date = end_date - relativedelta(days=7)\n",
    "elif PERIOD_DIGEST == \"monthly\":  # noqa\n",
    "    start_date = end_date - relativedelta(months=1)\n",
    "elif PERIOD_DIGEST == \"yearly\":  # noqa\n",
    "    start_date = end_date - relativedelta(years=1)\n",
    "print(start_date)\n",
    "print(end_date)"
   ]
  },
  {
   "cell_type": "markdown",
   "metadata": {},
   "source": [
    "## Jeux de données"
   ]
  },
  {
   "cell_type": "code",
   "execution_count": 3,
   "metadata": {},
   "outputs": [
    {
     "data": {
      "text/html": [
       "<h3>7 jeux de données créés</h3>"
      ],
      "text/plain": [
       "<IPython.core.display.HTML object>"
      ]
     },
     "metadata": {},
     "output_type": "display_data"
    },
    {
     "data": {
      "text/html": [
       "<a href=\"https://www.data.gouv.fr/fr/datasets/couche-geographique-des-monuments-historiques/\" target=\"_blank\">Couche géographique des monuments historiques</a> por <a href=\"https://www.data.gouv.fr/fr/users/emmanuel-amador-2/\" target=\"_blank\">Emmanuel Amador</a>"
      ],
      "text/plain": [
       "<IPython.core.display.HTML object>"
      ]
     },
     "metadata": {},
     "output_type": "display_data"
    },
    {
     "data": {
      "text/html": [
       "<a href=\"https://www.data.gouv.fr/fr/datasets/lycees-candidats-occitanie-dans-mon-assiette-session-2020/\" target=\"_blank\">Lycées candidats OCCITANIE DANS MON ASSIETTE  - SESSION 2020</a> por <a href=\"https://www.data.gouv.fr/fr/organizations/region-occitanie/\" target=\"_blank\">Région Occitanie / Pyrénées Méditerranée</a>"
      ],
      "text/plain": [
       "<IPython.core.display.HTML object>"
      ]
     },
     "metadata": {},
     "output_type": "display_data"
    },
    {
     "data": {
      "text/html": [
       "<a href=\"https://www.data.gouv.fr/fr/datasets/reporting-loi-lom-7/\" target=\"_blank\">Reporting loi LOM</a> por <a href=\"https://www.data.gouv.fr/fr/organizations/sas-societe-ouest-location/\" target=\"_blank\">SAS SOCIETE OUEST LOCATION</a>"
      ],
      "text/plain": [
       "<IPython.core.display.HTML object>"
      ]
     },
     "metadata": {},
     "output_type": "display_data"
    },
    {
     "data": {
      "text/html": [
       "<a href=\"https://www.data.gouv.fr/fr/datasets/reporting-loi-lom-6/\" target=\"_blank\">Reporting loi LOM</a> por <a href=\"https://www.data.gouv.fr/fr/organizations/sas-auto-tours/\" target=\"_blank\">SAS AUTO TOURS</a>"
      ],
      "text/plain": [
       "<IPython.core.display.HTML object>"
      ]
     },
     "metadata": {},
     "output_type": "display_data"
    },
    {
     "data": {
      "text/html": [
       "<a href=\"https://www.data.gouv.fr/fr/datasets/reporting-loi-lom-5/\" target=\"_blank\">Reporting Loi LOM</a> por <a href=\"https://www.data.gouv.fr/fr/organizations/vienne-location-vehicules/\" target=\"_blank\">VIENNE LOCATION VEHICULES</a>"
      ],
      "text/plain": [
       "<IPython.core.display.HTML object>"
      ]
     },
     "metadata": {},
     "output_type": "display_data"
    },
    {
     "data": {
      "text/html": [
       "<a href=\"https://www.data.gouv.fr/fr/datasets/irve-bump/\" target=\"_blank\">IRVE-BUMP</a> por <a href=\"https://www.data.gouv.fr/fr/organizations/bump/\" target=\"_blank\">Bump</a>"
      ],
      "text/plain": [
       "<IPython.core.display.HTML object>"
      ]
     },
     "metadata": {},
     "output_type": "display_data"
    },
    {
     "data": {
      "text/html": [
       "<a href=\"https://www.data.gouv.fr/fr/datasets/listes-des-centres-de-formation-dapprentis-adresse-nombre-deleves-taux-dinsertion-taux-de-rupture-par-specialite/\" target=\"_blank\">Listes des centres de formation d'apprentis  (adresse, nombre d'élèves, taux d'insertion, taux de rupture par spécialité)</a> por <a href=\"https://www.data.gouv.fr/fr/organizations/direction-de-lanimation-de-la-recherche-des-etudes-et-des-statistiques/\" target=\"_blank\">Direction de l’animation de la recherche, des études et des statistiques</a>"
      ],
      "text/plain": [
       "<IPython.core.display.HTML object>"
      ]
     },
     "metadata": {},
     "output_type": "display_data"
    }
   ],
   "source": [
    "nb_datasets, datasets = show_objects(\"datasets\", start_date, end_date)"
   ]
  },
  {
   "cell_type": "markdown",
   "metadata": {},
   "source": [
    "## Organisations"
   ]
  },
  {
   "cell_type": "code",
   "execution_count": null,
   "metadata": {},
   "outputs": [],
   "source": [
    "nb_orgas, orgas = show_orgas(start_date, end_date)"
   ]
  },
  {
   "cell_type": "markdown",
   "metadata": {},
   "source": [
    "## Réutilisations"
   ]
  },
  {
   "cell_type": "code",
   "execution_count": null,
   "metadata": {},
   "outputs": [],
   "source": [
    "nb_reuses, reuses = show_objects(\"reuses\", start_date, end_date)"
   ]
  },
  {
   "cell_type": "markdown",
   "metadata": {},
   "source": [
    "## Dataservices"
   ]
  },
  {
   "cell_type": "code",
   "execution_count": null,
   "metadata": {},
   "outputs": [],
   "source": [
    "nb_dataservices, dataservices = show_objects(\"dataservices\", start_date, end_date)"
   ]
  },
  {
   "cell_type": "markdown",
   "metadata": {},
   "source": [
    "## Discussions"
   ]
  },
  {
   "cell_type": "code",
   "execution_count": null,
   "metadata": {},
   "outputs": [],
   "source": [
    "nb_discussions, discussions = show_discussions(start_date, end_date)\n",
    "nb_discussions_dataservices = 0\n",
    "for d in discussions:\n",
    "    nb_discussions_dataservices += d[\"discussion_subject\"][\"class\"] == \"Dataservice\""
   ]
  },
  {
   "cell_type": "markdown",
   "metadata": {},
   "source": [
    "## Utilisateurs"
   ]
  },
  {
   "cell_type": "code",
   "execution_count": null,
   "metadata": {},
   "outputs": [],
   "source": [
    "nb_users, users = show_users(start_date, end_date)"
   ]
  },
  {
   "cell_type": "code",
   "execution_count": null,
   "metadata": {},
   "outputs": [],
   "source": [
    "output = {\n",
    "    \"datasets\": datasets,\n",
    "    \"orgas\": orgas,\n",
    "    \"reuses\": reuses,\n",
    "    \"dataservices\": dataservices,\n",
    "    \"discussions\": discussions,\n",
    "    \"users\": users,\n",
    "    \"stats\": {\n",
    "        \"nb_datasets\": nb_datasets,\n",
    "        \"nb_orgas\": nb_orgas,\n",
    "        \"nb_reuses\": nb_reuses,\n",
    "        \"nb_dataservices\": nb_dataservices,\n",
    "        \"nb_discussions\": nb_discussions,\n",
    "        \"nb_discussions_dataservices\": nb_discussions_dataservices,\n",
    "        \"nb_users\": nb_users,\n",
    "    },\n",
    "}\n",
    "with open(OUTPUT_DATA_FOLDER + \"stats.json\", \"w\") as outfile:  # noqa\n",
    "    json.dump(output, outfile)"
   ]
  }
 ],
 "metadata": {
  "celltoolbar": "Format de la Cellule Texte Brut",
  "gist": {
   "data": {
    "description": "moderation.ipynb",
    "public": true
   },
   "id": ""
  },
  "hide_input": true,
  "kernelspec": {
   "display_name": "Python 3",
   "language": "python",
   "name": "python3"
  },
  "language_info": {
   "codemirror_mode": {
    "name": "ipython",
    "version": 3
   },
   "file_extension": ".py",
   "mimetype": "text/x-python",
   "name": "python",
   "nbconvert_exporter": "python",
   "pygments_lexer": "ipython3",
   "version": "3.10.8"
  }
 },
 "nbformat": 4,
 "nbformat_minor": 2
}
