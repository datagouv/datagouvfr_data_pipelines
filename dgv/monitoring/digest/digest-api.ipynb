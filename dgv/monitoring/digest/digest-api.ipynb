{
    "cells": [
        {
            "cell_type": "markdown",
            "metadata": {},
            "source": [
                "# Récap des APIs"
            ]
        },
        {
            "cell_type": "code",
            "execution_count": null,
            "metadata": {},
            "outputs": [],
            "source": [
                "import sys\n",
                "sys.path.append(WORKING_DIR)"
            ]
        },
        {
            "cell_type": "code",
            "execution_count": null,
            "metadata": {},
            "outputs": [],
            "source": [
                "from dateutil.relativedelta import relativedelta\n",
                "from datetime import datetime\n",
                "from datagouvfr_data_pipelines.dgv.monitoring.digest.task_functions import show_objects"
            ]
        },
        {
            "cell_type": "code",
            "execution_count": null,
            "metadata": {},
            "outputs": [],
            "source": [
                "end_date = datetime.strptime(DATE_AIRFLOW, '%Y-%m-%d')\n",
                "if(PERIOD_DIGEST == 'daily'):\n",
                "    start_date = end_date - relativedelta(days=1)\n",
                "elif(PERIOD_DIGEST == 'weekly'):\n",
                "    start_date = end_date - relativedelta(days=7)\n",
                "elif(PERIOD_DIGEST == 'monthly'):\n",
                "    start_date = end_date - relativedelta(months=1)\n",
                "elif(PERIOD_DIGEST == 'yearly'):\n",
                "    start_date = end_date - relativedelta(years=1)\n",
                "print(start_date)\n",
                "print(end_date)"
            ]
        },
        {
            "cell_type": "markdown",
            "metadata": {},
            "source": [
                "## APIs"
            ]
        },
        {
            "cell_type": "code",
            "execution_count": null,
            "metadata": {},
            "outputs": [],
            "source": [
                "nb_dataservices, dataservices = show_objects(\"dataservices\", start_date, end_date)"
            ]
        }
    ],
    "metadata": {
        "celltoolbar": "Format de la Cellule Texte Brut",
        "gist": {
            "data": {
                "description": "moderation.ipynb",
                "public": true
            },
            "id": ""
        },
        "hide_input": true,
        "kernelspec": {
            "display_name": "Python 3",
            "language": "python",
            "name": "python3"
        },
        "language_info": {
            "codemirror_mode": {
                "name": "ipython",
                "version": 3
            },
            "file_extension": ".py",
            "mimetype": "text/x-python",
            "name": "python",
            "nbconvert_exporter": "python",
            "pygments_lexer": "ipython3",
            "version": "3.10.8"
        }
    },
    "nbformat": 4,
    "nbformat_minor": 2
}
